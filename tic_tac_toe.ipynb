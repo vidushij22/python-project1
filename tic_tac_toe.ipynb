{
 "cells": [
  {
   "cell_type": "code",
   "execution_count": 1,
   "metadata": {},
   "outputs": [
    {
     "name": "stderr",
     "output_type": "stream",
     "text": [
      "2024-11-25 16:59:17.480 Python[12186:773842] WARNING: Secure coding is automatically enabled for restorable state! However, not on all supported macOS versions of this application. Opt-in to secure coding explicitly by implementing NSApplicationDelegate.applicationSupportsSecureRestorableState:.\n"
     ]
    }
   ],
   "source": [
    "import tkinter as tk\n",
    "from tkinter import messagebox\n",
    "\n",
    "# Class to define the Tic Tac Toe game logic\n",
    "class TicTacToeGame:\n",
    "    def __init__(self, master):\n",
    "        self.master = master\n",
    "        self.master.title(\"Tic Tac Toe\")\n",
    "        self.current_player = \"X\"\n",
    "        self.board_state = [None] * 9\n",
    "        self.buttons = []\n",
    "\n",
    "        # Create the 3x3 game grid\n",
    "        for position in range(9):\n",
    "            button = tk.Button(master, text=\"\", font=(\"Arial\", 18), height=2, width=5,\n",
    "                               command=lambda pos=position: self.player_move(pos))\n",
    "            button.grid(row=position // 3, column=position % 3)\n",
    "            self.buttons.append(button)\n",
    "\n",
    "    def player_move(self, position):\n",
    "        # Check if the move is valid\n",
    "        if self.board_state[position] is None:\n",
    "            self.board_state[position] = self.current_player\n",
    "            self.buttons[position].config(text=self.current_player)\n",
    "            if self.check_winner():\n",
    "                messagebox.showinfo(\"Congratulations!\", f\"Player {self.current_player} wins!\")\n",
    "                self.reset_game()\n",
    "            elif all(self.board_state):  # If all cells are filled and no winner\n",
    "                messagebox.showinfo(\"Game Over\", \"It's a tie!\")\n",
    "                self.reset_game()\n",
    "            else:\n",
    "                # Switch player\n",
    "                self.current_player = \"O\" if self.current_player == \"X\" else \"X\"\n",
    "        else:\n",
    "            messagebox.showwarning(\"Invalid Move\", \"This cell is already taken!\")\n",
    "\n",
    "    def check_winner(self):\n",
    "        # All possible winning combinations\n",
    "        winning_combinations = [\n",
    "            (0, 1, 2), (3, 4, 5), (6, 7, 8),  # Rows\n",
    "            (0, 3, 6), (1, 4, 7), (2, 5, 8),  # Columns\n",
    "            (0, 4, 8), (2, 4, 6)              # Diagonals\n",
    "        ]\n",
    "        for combo in winning_combinations:\n",
    "            if (self.board_state[combo[0]] == self.board_state[combo[1]] ==\n",
    "                self.board_state[combo[2]] == self.current_player):\n",
    "                return True\n",
    "        return False\n",
    "\n",
    "    def reset_game(self):\n",
    "        # Reset the board and clear all cells\n",
    "        self.board_state = [None] * 9\n",
    "        for button in self.buttons:\n",
    "            button.config(text=\"\")\n",
    "        self.current_player = \"X\"\n",
    "\n",
    "\n",
    "# Function to start the application\n",
    "def launch_tic_tac_toe():\n",
    "    root = tk.Tk()\n",
    "    game = TicTacToeGame(root)\n",
    "    root.mainloop()\n",
    "\n",
    "\n",
    "# Start the game\n",
    "launch_tic_tac_toe()\n"
   ]
  }
 ],
 "metadata": {
  "kernelspec": {
   "display_name": "Python 3",
   "language": "python",
   "name": "python3"
  },
  "language_info": {
   "codemirror_mode": {
    "name": "ipython",
    "version": 3
   },
   "file_extension": ".py",
   "mimetype": "text/x-python",
   "name": "python",
   "nbconvert_exporter": "python",
   "pygments_lexer": "ipython3",
   "version": "3.9.6"
  }
 },
 "nbformat": 4,
 "nbformat_minor": 2
}
